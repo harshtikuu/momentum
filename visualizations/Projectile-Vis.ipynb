{
 "cells": [
  {
   "cell_type": "code",
   "execution_count": 28,
   "metadata": {},
   "outputs": [],
   "source": [
    "import pandas as pd\n",
    "from pandas import json_normalize\n",
    "import matplotlib.pyplot as plt\n",
    "import json"
   ]
  },
  {
   "cell_type": "code",
   "execution_count": 29,
   "metadata": {},
   "outputs": [],
   "source": [
    "with open('projectile-sim.json') as file:\n",
    "    dictionary = json.load(file)"
   ]
  },
  {
   "cell_type": "code",
   "execution_count": 52,
   "metadata": {},
   "outputs": [],
   "source": [
    "df= pd.DataFrame(dictionary['Snapshots'])"
   ]
  },
  {
   "cell_type": "code",
   "execution_count": 53,
   "metadata": {},
   "outputs": [],
   "source": [
    "loc = json_normalize(df['Location'])\n"
   ]
  },
  {
   "cell_type": "code",
   "execution_count": 54,
   "metadata": {},
   "outputs": [
    {
     "data": {
      "text/plain": [
       "<AxesSubplot:xlabel='x'>"
      ]
     },
     "execution_count": 54,
     "metadata": {},
     "output_type": "execute_result"
    },
    {
     "data": {
      "image/png": "[encoded data removed]",
      "text/plain": [
       "<Figure size 432x288 with 1 Axes>"
      ]
     },
     "metadata": {
      "needs_background": "light"
     },
     "output_type": "display_data"
    }
   ],
   "source": [
    "loc.plot(x = 'x',y = 'y')"
   ]
  },
  {
   "cell_type": "code",
   "execution_count": 57,
   "metadata": {},
   "outputs": [
    {
     "data": {
      "text/html": [
       "<div>\n",
       "<style scoped>\n",
       "    .dataframe tbody tr th:only-of-type {\n",
       "        vertical-align: middle;\n",
       "    }\n",
       "\n",
       "    .dataframe tbody tr th {\n",
       "        vertical-align: top;\n",
       "    }\n",
       "\n",
       "    .dataframe thead th {\n",
       "        text-align: right;\n",
       "    }\n",
       "</style>\n",
       "<table border=\"1\" class=\"dataframe\">\n",
       "  <thead>\n",
       "    <tr style=\"text-align: right;\">\n",
       "      <th></th>\n",
       "      <th>Location</th>\n",
       "      <th>Velocity</th>\n",
       "      <th>Acceleration</th>\n",
       "      <th>Mass</th>\n",
       "      <th>Time</th>\n",
       "    </tr>\n",
       "  </thead>\n",
       "  <tbody>\n",
       "    <tr>\n",
       "      <th>0</th>\n",
       "      <td>{'x': 0.0, 'y': 0.0, 'z': 0.0}</td>\n",
       "      <td>{'x': 7.0710678118654755, 'y': 7.0710678118654...</td>\n",
       "      <td>{'x': 0.0, 'y': 0.0, 'z': 0.0}</td>\n",
       "      <td>5.0</td>\n",
       "      <td>0.000000</td>\n",
       "    </tr>\n",
       "    <tr>\n",
       "      <th>1</th>\n",
       "      <td>{'x': 0.0, 'y': 0.0, 'z': 0.0}</td>\n",
       "      <td>{'x': 7.0710678118654755, 'y': 7.0710678118654...</td>\n",
       "      <td>{'x': 0.0, 'y': -9.810000000000002, 'z': 0.0}</td>\n",
       "      <td>5.0</td>\n",
       "      <td>0.000000</td>\n",
       "    </tr>\n",
       "    <tr>\n",
       "      <th>2</th>\n",
       "      <td>{'x': 0.11785113019775792, 'y': 0.116488630197...</td>\n",
       "      <td>{'x': 7.0710678118654755, 'y': 6.9075678118654...</td>\n",
       "      <td>{'x': 0.0, 'y': -9.810000000000002, 'z': 0.0}</td>\n",
       "      <td>5.0</td>\n",
       "      <td>0.016667</td>\n",
       "    </tr>\n",
       "    <tr>\n",
       "      <th>3</th>\n",
       "      <td>{'x': 0.23570226039551584, 'y': 0.230252260395...</td>\n",
       "      <td>{'x': 7.0710678118654755, 'y': 6.7440678118654...</td>\n",
       "      <td>{'x': 0.0, 'y': -9.810000000000002, 'z': 0.0}</td>\n",
       "      <td>5.0</td>\n",
       "      <td>0.033333</td>\n",
       "    </tr>\n",
       "    <tr>\n",
       "      <th>4</th>\n",
       "      <td>{'x': 0.35355339059327373, 'y': 0.341290890593...</td>\n",
       "      <td>{'x': 7.0710678118654755, 'y': 6.5805678118654...</td>\n",
       "      <td>{'x': 0.0, 'y': -9.810000000000002, 'z': 0.0}</td>\n",
       "      <td>5.0</td>\n",
       "      <td>0.050000</td>\n",
       "    </tr>\n",
       "    <tr>\n",
       "      <th>...</th>\n",
       "      <td>...</td>\n",
       "      <td>...</td>\n",
       "      <td>...</td>\n",
       "      <td>...</td>\n",
       "      <td>...</td>\n",
       "    </tr>\n",
       "    <tr>\n",
       "      <th>83</th>\n",
       "      <td>{'x': 9.663792676216165, 'y': 0.50234267621615...</td>\n",
       "      <td>{'x': 7.0710678118654755, 'y': -6.335932188134...</td>\n",
       "      <td>{'x': 0.0, 'y': -9.810000000000002, 'z': 0.0}</td>\n",
       "      <td>5.0</td>\n",
       "      <td>1.366667</td>\n",
       "    </tr>\n",
       "    <tr>\n",
       "      <th>84</th>\n",
       "      <td>{'x': 9.781643806413923, 'y': 0.39538130641391...</td>\n",
       "      <td>{'x': 7.0710678118654755, 'y': -6.499432188134...</td>\n",
       "      <td>{'x': 0.0, 'y': -9.810000000000002, 'z': 0.0}</td>\n",
       "      <td>5.0</td>\n",
       "      <td>1.383333</td>\n",
       "    </tr>\n",
       "    <tr>\n",
       "      <th>85</th>\n",
       "      <td>{'x': 9.899494936611681, 'y': 0.28569493661166...</td>\n",
       "      <td>{'x': 7.0710678118654755, 'y': -6.662932188134...</td>\n",
       "      <td>{'x': 0.0, 'y': -9.810000000000002, 'z': 0.0}</td>\n",
       "      <td>5.0</td>\n",
       "      <td>1.400000</td>\n",
       "    </tr>\n",
       "    <tr>\n",
       "      <th>86</th>\n",
       "      <td>{'x': 10.01734606680944, 'y': 0.17328356680942...</td>\n",
       "      <td>{'x': 7.0710678118654755, 'y': -6.826432188134...</td>\n",
       "      <td>{'x': 0.0, 'y': -9.810000000000002, 'z': 0.0}</td>\n",
       "      <td>5.0</td>\n",
       "      <td>1.416667</td>\n",
       "    </tr>\n",
       "    <tr>\n",
       "      <th>87</th>\n",
       "      <td>{'x': 10.135197197007198, 'y': 0.0581471970071...</td>\n",
       "      <td>{'x': 7.0710678118654755, 'y': -6.989932188134...</td>\n",
       "      <td>{'x': 0.0, 'y': -9.810000000000002, 'z': 0.0}</td>\n",
       "      <td>5.0</td>\n",
       "      <td>1.433333</td>\n",
       "    </tr>\n",
       "  </tbody>\n",
       "</table>\n",
       "<p>88 rows × 5 columns</p>\n",
       "</div>"
      ],
      "text/plain": [
       "                                             Location  ...      Time\n",
       "0                      {'x': 0.0, 'y': 0.0, 'z': 0.0}  ...  0.000000\n",
       "1                      {'x': 0.0, 'y': 0.0, 'z': 0.0}  ...  0.000000\n",
       "2   {'x': 0.11785113019775792, 'y': 0.116488630197...  ...  0.016667\n",
       "3   {'x': 0.23570226039551584, 'y': 0.230252260395...  ...  0.033333\n",
       "4   {'x': 0.35355339059327373, 'y': 0.341290890593...  ...  0.050000\n",
       "..                                                ...  ...       ...\n",
       "83  {'x': 9.663792676216165, 'y': 0.50234267621615...  ...  1.366667\n",
       "84  {'x': 9.781643806413923, 'y': 0.39538130641391...  ...  1.383333\n",
       "85  {'x': 9.899494936611681, 'y': 0.28569493661166...  ...  1.400000\n",
       "86  {'x': 10.01734606680944, 'y': 0.17328356680942...  ...  1.416667\n",
       "87  {'x': 10.135197197007198, 'y': 0.0581471970071...  ...  1.433333\n",
       "\n",
       "[88 rows x 5 columns]"
      ]
     },
     "execution_count": 57,
     "metadata": {},
     "output_type": "execute_result"
    }
   ],
   "source": [
    "df"
   ]
  },
  {
   "cell_type": "code",
   "execution_count": null,
   "metadata": {},
   "outputs": [],
   "source": []
  }
 ],
 "metadata": {
  "kernelspec": {
   "display_name": "Python 3",
   "language": "python",
   "name": "python3"
  },
  "language_info": {
   "codemirror_mode": {
    "name": "ipython",
    "version": 3
   },
   "file_extension": ".py",
   "mimetype": "text/x-python",
   "name": "python",
   "nbconvert_exporter": "python",
   "pygments_lexer": "ipython3",
   "version": "3.6.4"
  }
 },
 "nbformat": 4,
 "nbformat_minor": 4
}
